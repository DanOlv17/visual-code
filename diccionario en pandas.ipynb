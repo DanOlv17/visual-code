{
 "cells": [
  {
   "cell_type": "code",
   "execution_count": null,
   "metadata": {},
   "outputs": [],
   "source": [
    "import numpy as np\n",
    "import pandas as pd"
   ]
  },
  {
   "cell_type": "code",
   "execution_count": 15,
   "metadata": {},
   "outputs": [
    {
     "data": {
      "text/plain": [
       "{'nombre del estudiante': 'Daniel Oliveros',\n",
       " 'sugerencia1': 'realizar retos creativos',\n",
       " 'sugerencia2': 'Proponer un trabajo libre por persona o por grupo',\n",
       " 'sugerencia3': 'Realizar un trabajo sobre las precauciones que se deben tener a la hora de codificar en Python'}"
      ]
     },
     "execution_count": 15,
     "metadata": {},
     "output_type": "execute_result"
    }
   ],
   "source": [
    "libro_2={\n",
    "    'nombre del estudiante':'Daniel Oliveros',\n",
    "    'sugerencia1':'realizar retos creativos',\n",
    "    'sugerencia2':'Proponer un trabajo libre por persona o por grupo',\n",
    "    'sugerencia3':'Realizar un trabajo sobre las precauciones que se deben tener a la hora de codificar en Python'\n",
    "}\n",
    "libro_2"
   ]
  },
  {
   "cell_type": "code",
   "execution_count": null,
   "metadata": {},
   "outputs": [],
   "source": []
  },
  {
   "cell_type": "code",
   "execution_count": null,
   "metadata": {},
   "outputs": [],
   "source": [
    "pip install numpy"
   ]
  },
  {
   "cell_type": "code",
   "execution_count": null,
   "metadata": {},
   "outputs": [],
   "source": [
    "pip install pandas"
   ]
  }
 ],
 "metadata": {
  "interpreter": {
   "hash": "e64b1cb8d5f886d465c552ea9f517557d29d1eaa50f8e3cb5214dda08bc8a661"
  },
  "kernelspec": {
   "display_name": "Python 3.9.9 64-bit (windows store)",
   "language": "python",
   "name": "python3"
  },
  "language_info": {
   "codemirror_mode": {
    "name": "ipython",
    "version": 3
   },
   "file_extension": ".py",
   "mimetype": "text/x-python",
   "name": "python",
   "nbconvert_exporter": "python",
   "pygments_lexer": "ipython3",
   "version": "3.9.9"
  },
  "orig_nbformat": 4
 },
 "nbformat": 4,
 "nbformat_minor": 2
}
